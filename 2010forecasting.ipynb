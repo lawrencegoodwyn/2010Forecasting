{
  "cells": [
    {
      "cell_type": "markdown",
      "metadata": {
        "id": "view-in-github",
        "colab_type": "text"
      },
      "source": [
        "<a href=\"https://colab.research.google.com/github/lawrencegoodwyn/2010Forecasting/blob/main/2010forecasting.ipynb\" target=\"_parent\"><img src=\"https://colab.research.google.com/assets/colab-badge.svg\" alt=\"Open In Colab\"/></a>"
      ]
    },
    {
      "cell_type": "code",
      "execution_count": null,
      "id": "b1cf3a13",
      "metadata": {
        "id": "b1cf3a13",
        "outputId": "265cb17c-cc2c-4b08-e057-313789765b1b",
        "colab": {
          "base_uri": "https://localhost:8080/"
        }
      },
      "outputs": [
        {
          "output_type": "stream",
          "name": "stdout",
          "text": [
            "Cloning into 'takehomes'...\n",
            "remote: Enumerating objects: 1963, done.\u001b[K\n",
            "remote: Counting objects: 100% (1963/1963), done.\u001b[K\n",
            "remote: Compressing objects: 100% (1220/1220), done.\u001b[K\n",
            "remote: Total 1963 (delta 752), reused 1927 (delta 726), pack-reused 0 (from 0)\u001b[K\n",
            "Receiving objects: 100% (1963/1963), 297.43 MiB | 16.32 MiB/s, done.\n",
            "Resolving deltas: 100% (752/752), done.\n",
            "/content/takehomes/capgemini_3\n",
            "logo.png  metadata.json  sales_forecasting.csv\ttakehomefile.ipynb\n"
          ]
        }
      ],
      "source": [
        "!git clone --branch capgemini_3 https://github.com/interviewquery/takehomes.git\n",
        "%cd takehomes/capgemini_3\n",
        "!ls"
      ]
    },
    {
      "cell_type": "code",
      "execution_count": null,
      "id": "1fb4a554",
      "metadata": {
        "id": "1fb4a554"
      },
      "outputs": [],
      "source": [
        "import pandas as pd\n",
        "import numpy as np\n",
        "import matplotlib.pyplot as plt\n",
        "import seaborn as sns\n",
        "\n",
        "df = pd.read_csv ('sales_forecasting.csv', index_col=0)"
      ]
    },
    {
      "cell_type": "code",
      "source": [],
      "metadata": {
        "id": "xllktjaElJkE"
      },
      "id": "xllktjaElJkE",
      "execution_count": null,
      "outputs": []
    },
    {
      "cell_type": "code",
      "source": [
        "print(df)"
      ],
      "metadata": {
        "id": "-a1XP4Ulgv8t",
        "outputId": "40746754-31b7-408b-9547-85208818cdc5",
        "colab": {
          "base_uri": "https://localhost:8080/"
        }
      },
      "id": "-a1XP4Ulgv8t",
      "execution_count": null,
      "outputs": [
        {
          "output_type": "stream",
          "name": "stdout",
          "text": [
            "       Dept        Date  Weekly_Sales  IsHoliday\n",
            "Store                                           \n",
            "1         1  2010-02-05      24924.50      False\n",
            "1         1  2010-02-12      46039.49       True\n",
            "1         1  2010-02-19      41595.55      False\n",
            "1         1  2010-02-26      19403.54      False\n",
            "1         1  2010-03-05      21827.90      False\n",
            "...     ...         ...           ...        ...\n",
            "45       98  2012-09-28        508.37      False\n",
            "45       98  2012-10-05        628.10      False\n",
            "45       98  2012-10-12       1061.02      False\n",
            "45       98  2012-10-19        760.01      False\n",
            "45       98  2012-10-26       1076.80      False\n",
            "\n",
            "[421570 rows x 4 columns]\n"
          ]
        }
      ]
    },
    {
      "cell_type": "code",
      "source": [
        "df.dtypes"
      ],
      "metadata": {
        "id": "WpyQq19Blj1I",
        "outputId": "b5e17d6b-4bcb-4da8-bc34-4ee31a6dbe59",
        "colab": {
          "base_uri": "https://localhost:8080/",
          "height": 207
        }
      },
      "id": "WpyQq19Blj1I",
      "execution_count": null,
      "outputs": [
        {
          "output_type": "execute_result",
          "data": {
            "text/plain": [
              "Dept              int64\n",
              "Date             object\n",
              "Weekly_Sales    float64\n",
              "IsHoliday          bool\n",
              "dtype: object"
            ],
            "text/html": [
              "<div>\n",
              "<style scoped>\n",
              "    .dataframe tbody tr th:only-of-type {\n",
              "        vertical-align: middle;\n",
              "    }\n",
              "\n",
              "    .dataframe tbody tr th {\n",
              "        vertical-align: top;\n",
              "    }\n",
              "\n",
              "    .dataframe thead th {\n",
              "        text-align: right;\n",
              "    }\n",
              "</style>\n",
              "<table border=\"1\" class=\"dataframe\">\n",
              "  <thead>\n",
              "    <tr style=\"text-align: right;\">\n",
              "      <th></th>\n",
              "      <th>0</th>\n",
              "    </tr>\n",
              "  </thead>\n",
              "  <tbody>\n",
              "    <tr>\n",
              "      <th>Dept</th>\n",
              "      <td>int64</td>\n",
              "    </tr>\n",
              "    <tr>\n",
              "      <th>Date</th>\n",
              "      <td>object</td>\n",
              "    </tr>\n",
              "    <tr>\n",
              "      <th>Weekly_Sales</th>\n",
              "      <td>float64</td>\n",
              "    </tr>\n",
              "    <tr>\n",
              "      <th>IsHoliday</th>\n",
              "      <td>bool</td>\n",
              "    </tr>\n",
              "  </tbody>\n",
              "</table>\n",
              "</div><br><label><b>dtype:</b> object</label>"
            ]
          },
          "metadata": {},
          "execution_count": 7
        }
      ]
    },
    {
      "cell_type": "code",
      "source": [
        "pip install psycopg2"
      ],
      "metadata": {
        "id": "ktX3WmZ4nqwN",
        "outputId": "8ab491e0-c5dd-4079-8eb5-f3eaf5ac74b7",
        "colab": {
          "base_uri": "https://localhost:8080/"
        }
      },
      "id": "ktX3WmZ4nqwN",
      "execution_count": null,
      "outputs": [
        {
          "output_type": "stream",
          "name": "stdout",
          "text": [
            "Requirement already satisfied: psycopg2 in /usr/local/lib/python3.10/dist-packages (2.9.10)\n"
          ]
        }
      ]
    },
    {
      "cell_type": "code",
      "source": [],
      "metadata": {
        "id": "X7QqLTGDpOzd"
      },
      "id": "X7QqLTGDpOzd",
      "execution_count": null,
      "outputs": []
    }
  ],
  "metadata": {
    "kernelspec": {
      "display_name": "Python 3 (ipykernel)",
      "language": "python",
      "name": "python3"
    },
    "language_info": {
      "codemirror_mode": {
        "name": "ipython",
        "version": 3
      },
      "file_extension": ".py",
      "mimetype": "text/x-python",
      "name": "python",
      "nbconvert_exporter": "python",
      "pygments_lexer": "ipython3",
      "version": "3.10.5"
    },
    "colab": {
      "provenance": [],
      "include_colab_link": true
    }
  },
  "nbformat": 4,
  "nbformat_minor": 5
}